{
 "cells": [
  {
   "cell_type": "code",
   "execution_count": 1,
   "id": "04effac7",
   "metadata": {},
   "outputs": [],
   "source": [
    "# DSC540,Summer 2023 - T302 Data Preparation(2237-1)\n",
    "# Assignment: Project Milestone 01\n",
    "# Author by:  Debabrata Mishra\n",
    "# Date: 2023-06-18\n",
    "\n",
    "# Topic - Credit Card Transactional & Demographic Data"
   ]
  },
  {
   "cell_type": "markdown",
   "id": "1f8c5081",
   "metadata": {},
   "source": [
    "# Project Description"
   ]
  },
  {
   "cell_type": "markdown",
   "id": "3c5d1275",
   "metadata": {},
   "source": [
    "In this project, the data consists of credit card transactions along with demographic information details such as merchant information, timestamps, and contextual features. The fraud labels indicate whether each transaction is fraudulent or legitimate. The objective is to gather data from the three sources, perform data cleaning and formatting, and generate user-defined fields as needed. Next, the relationships between the data sources will be established, and the data will be stored for further analysis. Finally, Python will be used to create visualizations to gain insights from the data."
   ]
  },
  {
   "cell_type": "markdown",
   "id": "4b8d7836",
   "metadata": {},
   "source": [
    "# Data Sources"
   ]
  },
  {
   "cell_type": "markdown",
   "id": "51ebfec8",
   "metadata": {},
   "source": [
    "## Flat File"
   ]
  },
  {
   "cell_type": "markdown",
   "id": "defe309f",
   "metadata": {},
   "source": [
    "Descrition: \n",
    "\n",
    "Simulated credit card transaction dataset containing legitimate and fraud transactions from the duration 1st Jan 2019 - 31st Dec 2020. It covers credit cards of 1000+ customers doing transactions across 693 unique merchant ids. It has 23 columns and transactional information along with demographic details of Merchants and Card Holders.\n",
    "\n",
    "Link: https://www.kaggle.com/code/nathanxiang/credit-card-fraud-analysis-and-modeling/input?select=fraudTrain.csv"
   ]
  },
  {
   "cell_type": "markdown",
   "id": "526dce6b",
   "metadata": {},
   "source": [
    "## API"
   ]
  },
  {
   "cell_type": "markdown",
   "id": "a8b4683e",
   "metadata": {},
   "source": [
    "Description:\n",
    "\n",
    "The Google Reverse Geocoding API is a service provided by Google Maps that allows you to convert geographic coordinates (latitude and longitude) into human-readable addresses. It enables you to retrieve detailed location information based on the provided coordinates. When you make a request to the Reverse Geocoding API, it sends back a response in JSON or XML format containing the address components and other relevant details associated with the given coordinates. The API can provide a range of information, including the street address, city, state, postal code, country, and more\n",
    "\n",
    "\n",
    "Link : https://maps.googleapis.com/maps/api/geocode/json?latlng={lat},{lng}&key={api_key}"
   ]
  },
  {
   "cell_type": "markdown",
   "id": "197a7f59",
   "metadata": {},
   "source": [
    "## Website"
   ]
  },
  {
   "cell_type": "markdown",
   "id": "e5340205",
   "metadata": {},
   "source": [
    "Descrition: \n",
    "\n",
    "The dataset consists of credit card transactions made by European cardholders in September 2013. The dataset covers a two-day period and contains a total of 200K+ transactions and 31 columns. The dataset is highly imbalanced, with fraud transactions accounting for only 0.172% of the total transactions.\n",
    "\n",
    "The dataset primarily includes numeric input variables resulting from a PCA (Principal Component Analysis) transformation. Unfortunately, due to confidentiality concerns, the original features and additional background information about the data are not provided. The dataset includes principal components labeled as V1, V2, … V28, which are the outcomes of the PCA transformation. The 'Time' and 'Amount' features are exceptions and have not undergone the PCA transformation. The 'Time' feature represents the number of seconds elapsed between each transaction and the first transaction recorded in the dataset. The 'Amount' feature represents the monetary value of each transaction. The 'Amount' feature can be useful, particularly for approaches involving example-dependent cost-sensitive learning. The response variable, labeled as 'Class,' indicates whether a transaction is fraudulent (1) or not (0).\n",
    "\n",
    "Link: https://datahub.io/machine-learning/creditcard/r/0.html"
   ]
  },
  {
   "cell_type": "markdown",
   "id": "c90670db",
   "metadata": {},
   "source": [
    "# Relationships"
   ]
  },
  {
   "cell_type": "markdown",
   "id": "81fc8293",
   "metadata": {},
   "source": [
    "The data from each source is connected as follows:\n",
    "\n",
    "\n",
    "The flat file contains the core transaction data, including merchant information and fraud labels. I will get the BIN numbers from the Card numbers , create an amount range for Fraud and Non Fraud transactions.\n",
    "\n",
    "\n",
    "The API will be used to get the merchant address details by providing the Latitude Location of Merchant and Longitude Location of Merchant from the each transactional records of flat file. I will define a function takes the latitude, longitude coordinates along with the API key as input parameters. It constructs the API URL with the provided coordinates, makes a GET request to the Google Geocoding API, and parses the JSON response. The function then extracts the formatted address from the response and returns it.\n",
    "\n",
    "\n",
    "The website data will provide insights of distribution of Amount for Fraud and Nit fraud transactions along with Time. Then build the relationship with flat file data. "
   ]
  },
  {
   "cell_type": "markdown",
   "id": "6cd73b4a",
   "metadata": {},
   "source": [
    "# Plan to tackle the project"
   ]
  },
  {
   "cell_type": "markdown",
   "id": "776d54bf",
   "metadata": {},
   "source": [
    "The primary focus is on collecting the credit card transaction data, along with associated information, from the defined sources (CSV, Web and API). The data will be carefully cleaned and formatted to ensure consistency and accuracy. During this process,I will create some additional fields based on specific requirements to build relationships or for desired analysis.\n",
    "\n",
    "Once the data is prepared, the relationships between the different data sources will be established. This may involve linking transaction details, merchant information, and contextual features to gain a comprehensive view of each credit card transaction. Proper data storage techniques will be employed to efficiently manage and access the data for analysis.\n",
    "\n",
    "Finally, using Python I will create visualizations that provide meaningful insights from the data. These visualizations may include charts, graphs, and other interactive representations to help identify patterns, trends, and anomalies related to fraudulent transactions. Python's data visualization libraries, such as Matplotlib and Seaborn, will be leveraged to generate informative and visually appealing outputs."
   ]
  },
  {
   "cell_type": "markdown",
   "id": "c8fa75a8",
   "metadata": {},
   "source": [
    "# Ethical implications & Challenges"
   ]
  },
  {
   "cell_type": "markdown",
   "id": "87d7f586",
   "metadata": {},
   "source": [
    "Throughout the project, it is important to adhere to ethical considerations, including data privacy and security. Protecting sensitive information and ensuring compliance with relevant regulations is essential. Additionally, challenges such as dealing with imbalanced datasets, maintaining data integrity, and effectively communicating the results through visualizations may need to be addressed."
   ]
  }
 ],
 "metadata": {
  "kernelspec": {
   "display_name": "Python 3 (ipykernel)",
   "language": "python",
   "name": "python3"
  },
  "language_info": {
   "codemirror_mode": {
    "name": "ipython",
    "version": 3
   },
   "file_extension": ".py",
   "mimetype": "text/x-python",
   "name": "python",
   "nbconvert_exporter": "python",
   "pygments_lexer": "ipython3",
   "version": "3.9.13"
  }
 },
 "nbformat": 4,
 "nbformat_minor": 5
}
